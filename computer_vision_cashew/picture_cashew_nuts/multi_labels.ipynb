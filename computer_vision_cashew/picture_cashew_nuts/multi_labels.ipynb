{
 "cells": [
  {
   "cell_type": "markdown",
   "metadata": {},
   "source": [
    "Step 1: Importing the libraries we need."
   ]
  },
  {
   "cell_type": "code",
   "execution_count": 4,
   "metadata": {},
   "outputs": [],
   "source": [
    "# system libraries\n",
    "import os\n",
    "import warnings\n",
    "\n",
    "# ignoring all the warnings\n",
    "warnings.simplefilter('ignore')\n",
    "\n",
    "# import data handling libraries\n",
    "import numpy as np\n",
    "import pandas as pd\n",
    "\n",
    "# importing data visualisation libraries\n",
    "import matplotlib.pyplot as plt\n",
    "\n",
    "# import image processing library\n",
    "from skimage.io import imread, imshow\n",
    "from skimage.transform import resize\n",
    "#from skimage.color import rgb2grey\n",
    "from skimage.color import rgb2gray  # Use rgb2gray for older versions\n"
   ]
  },
  {
   "cell_type": "code",
   "execution_count": null,
   "metadata": {},
   "outputs": [],
   "source": [
    "r = os.listdir(r\"C:\\Users\\Garima Singh\\Desktop\\data\\mugshots\\r\")\n",
    "# This is the path to the image folder\n",
    "\n",
    "v = os.listdir(r\"C:\\Users\\Garima Singh\\Desktop\\data\\mugshots\\v\")\n",
    "d = os.listdir(r\"C:\\Users\\Garima Singh\\Desktop\\data\\mugshots\\d\")\n",
    "\n",
    "print(r[0:10])\n"
   ]
  },
  {
   "cell_type": "markdown",
   "metadata": {},
   "source": [
    "Bước 3: Tạo và nhập dữ liệu từ ảnh và Thiết lập giới hạn.  "
   ]
  },
  {
   "cell_type": "code",
   "execution_count": null,
   "metadata": {},
   "outputs": [],
   "source": [
    "limit = 100\n",
    "# Creating the list of blank spaces that can potentially hold data:\n",
    "ra_images = [None]*limit\n",
    "\n",
    "# Creating loop variables:\n",
    "i, j = 0, 0\n",
    "\n",
    "# This part of the code loops over all the images\n",
    "# in the list \"r\" and reads it into the jth element\n",
    "# of the array we made in line 2.\n",
    "for i in r:\n",
    "\tif(j<limit):\n",
    "\t\tra_images[j] = imread(r\"C:\\Users\\data\\mugshots\\r\\\\\" + i)\n",
    "\t\tj+= 1\n",
    "\telse:\n",
    "\t\tbreak\n",
    "\t\n",
    "# Similarly, we will fill up the data into the other 2 arrays\n"
   ]
  },
  {
   "cell_type": "code",
   "execution_count": null,
   "metadata": {},
   "outputs": [],
   "source": []
  },
  {
   "cell_type": "code",
   "execution_count": null,
   "metadata": {},
   "outputs": [],
   "source": []
  }
 ],
 "metadata": {
  "kernelspec": {
   "display_name": "Python 3",
   "language": "python",
   "name": "python3"
  },
  "language_info": {
   "codemirror_mode": {
    "name": "ipython",
    "version": 3
   },
   "file_extension": ".py",
   "mimetype": "text/x-python",
   "name": "python",
   "nbconvert_exporter": "python",
   "pygments_lexer": "ipython3",
   "version": "3.11.4"
  },
  "orig_nbformat": 4
 },
 "nbformat": 4,
 "nbformat_minor": 2
}
